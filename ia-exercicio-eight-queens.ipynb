{
  "nbformat": 4,
  "nbformat_minor": 0,
  "metadata": {
    "kernelspec": {
      "display_name": "Python 3",
      "language": "python",
      "name": "python3"
    },
    "language_info": {
      "codemirror_mode": {
        "name": "ipython",
        "version": 3
      },
      "file_extension": ".py",
      "mimetype": "text/x-python",
      "name": "python",
      "nbconvert_exporter": "python",
      "pygments_lexer": "ipython3",
      "version": "3.7.1"
    },
    "colab": {
      "name": "ia-exercicio-eight-queens.ipynb",
      "version": "0.3.2",
      "provenance": []
    }
  },
  "cells": [
    {
      "cell_type": "markdown",
      "metadata": {
        "id": "kLX80cIBuQx2",
        "colab_type": "text"
      },
      "source": [
        "# Exercício: Solucionando o problema das 8 rainhas\n",
        "## Solução 1: força bruta!\n",
        "\n",
        "Varrendo cada linha do tabuleiro e colocando uma rainha por coluna, enquanto checamos a cada passo que duas rainhas não estão na linha de ataque da outra. \n",
        "\n",
        "Dessa forma, a solução avaliará todas as combinações possíveis das oito rainhas no tabuleiro de xadrez e rejeitará os estados inválidos. Quantas combinações de 8 rainhas em um tabuleiro de 64 células são possíveis?\n",
        "\n",
        "A fórmula de combinações é dada por:\n",
        "\n",
        "$C(n,k) = \\frac{n!}{k!\\cdot(n-k)!}$\n",
        "\n",
        "Considerando um tabuleiro de 8 x 8, teríamos:\n",
        "\n",
        "$C(64,8) = \\frac{64!}{8!\\cdot(64-8)!} = 4.426.165.368$ soluções possíveis a serem avaliadas. \n",
        "\n",
        "Considerando que este é um problema que pode ser usado para representar outros \n",
        "[problemas](https://pdfs.semanticscholar.org/79d2/fa13d4a5cfc02ff6936b6083bb620e4e0ce1.pdf) (reais, e.g., VLSI design) \n",
        "que eventualmente pode ter dimensões muito superiores às de um tabuleiro de xadrez, vale a pena analisar como se dá o \n",
        "crescimento deste problema em termos da entrada.\n",
        "\n",
        "### Questão 1\n",
        "Gere um gráfico (utilize o matplotlib) que demonstre a taxa de crescimento da quantidade de soluções possíveis em termos do tamanho do tabuleiro, conforme apresentado acima."
      ]
    },
    {
      "cell_type": "code",
      "metadata": {
        "id": "cK9187PbuQx4",
        "colab_type": "code",
        "colab": {}
      },
      "source": [
        ""
      ],
      "execution_count": 0,
      "outputs": []
    },
    {
      "cell_type": "markdown",
      "metadata": {
        "id": "ZdTVladVuQx7",
        "colab_type": "text"
      },
      "source": [
        "## Modelando o problema em Python"
      ]
    },
    {
      "cell_type": "code",
      "metadata": {
        "id": "357wuB4OuQx8",
        "colab_type": "code",
        "outputId": "5d5b37bf-6fa0-4b35-cd2c-03f41f94af13",
        "colab": {
          "base_uri": "https://localhost:8080/",
          "height": 187
        }
      },
      "source": [
        "\"\"\"The n queens puzzle\"\"\"\n",
        "class NQueens:\n",
        "    def __init__(self, size):\n",
        "        # Store the puzzle (problem) size and the number of valid solutions\n",
        "        self.size = size\n",
        "        self.solutions = 0\n",
        "\n",
        "    def solve(self):\n",
        "        return []\n",
        "\n",
        "    def show(self, solution=None):\n",
        "        \"\"\"Show the full NxN board\"\"\"\n",
        "        for row in range(self.size):\n",
        "            line = \"\"\n",
        "            for column in range(self.size):\n",
        "                if solution and solution[row] == column:\n",
        "                    line += \"Q \"\n",
        "                else:\n",
        "                    line += \". \"\n",
        "            print(line)\n",
        "        print(\"\\n\")\n",
        "       \n",
        "# Criando uma instância do problema\n",
        "board = NQueens(8)\n",
        "board.show()"
      ],
      "execution_count": 0,
      "outputs": [
        {
          "output_type": "stream",
          "text": [
            ". . . . . . . . \n",
            ". . . . . . . . \n",
            ". . . . . . . . \n",
            ". . . . . . . . \n",
            ". . . . . . . . \n",
            ". . . . . . . . \n",
            ". . . . . . . . \n",
            ". . . . . . . . \n",
            "\n",
            "\n"
          ],
          "name": "stdout"
        }
      ]
    },
    {
      "cell_type": "markdown",
      "metadata": {
        "id": "2fQZVQG4uQx_",
        "colab_type": "text"
      },
      "source": [
        "### Questão 2\n",
        "Implemente a seguinte formulação:\n",
        "\n",
        "- estados: qualquer disposição com n (n ≤ 8) rainhas\n",
        "- operadores: adicionar uma rainha a qualquer quadrado\n",
        "- Verificar se a solução é válida ao final da 'alocação'\n",
        "- 64x63x...x57 = 3x1014 possibilidades"
      ]
    },
    {
      "cell_type": "code",
      "metadata": {
        "id": "4G-1N37juQx_",
        "colab_type": "code",
        "colab": {}
      },
      "source": [
        "\n",
        "from random import randint\n",
        "\n",
        "q='.'\n",
        "matriz= [\n",
        "[q,q,q,q,q,q,q,q],\n",
        "[q,q,q,q,q,q,q,q],\n",
        "[q,q,q,q,q,q,q,q],\n",
        "[q,q,q,q,q,q,q,q],\n",
        "[q,q,q,q,q,q,q,q],\n",
        "[q,q,q,q,q,q,q,q],\n",
        "[q,q,q,q,q,q,q,q],\n",
        "[q,q,q,q,q,q,q,q],\n",
        "]\n",
        "incompleto= True\n",
        "while incompleto:\n",
        "    x=randint(0,7)\n",
        "    y=randint(0,7)#gerando valores para uma posição aleatória\n",
        "    if matriz[x][y]=='.':#verificando se a posição está livre\n",
        "        matriz[x][y] = 'R'#insere a rainha na posição\n",
        "        j=0\n",
        "        for i in matriz[x]:#traçando caminho horizontal da rainha\n",
        "            if i=='.':\n",
        "                matriz[x][j]='O'\n",
        "            j+=1\n",
        "        j=0\n",
        "        while j<8:#traçando caminho vertical da rainha\n",
        "           if matriz[j][y]=='.':\n",
        "               matriz[j][y]='O'\n",
        "           j+=1\n",
        "        xcpy=x\n",
        "        ycpy=y\n",
        "        xcpy += 1\n",
        "        ycpy += 1\n",
        "        while 0<=xcpy<=7 and 0<=ycpy<=7:\n",
        "            if matriz[xcpy][ycpy]=='.':\n",
        "                matriz[xcpy][ycpy]='O'#fazendo com que a diagonal esq->dir descendo seja preenchida\n",
        "            xcpy += 1\n",
        "            ycpy += 1\n",
        "        xcpy=x\n",
        "        ycpy=y\n",
        "        while 0<=xcpy<=7 and 0<=ycpy<=7:#verificando se continua dentro dos limites da matriz\n",
        "            if matriz[xcpy][ycpy]=='.':\n",
        "                matriz[xcpy][ycpy]='O'#fazendo com que a diagonal dir->esq subindo seja preenchida\n",
        "            xcpy -= 1\n",
        "            ycpy -= 1\n",
        "\n",
        "        xcpy = x\n",
        "        ycpy = y\n",
        "        while 0 <= xcpy <= 7 and 0 <= ycpy <= 7:  # verificando se continua dentro dos limites da matriz\n",
        "            if matriz[xcpy][ycpy] == '.':\n",
        "                matriz[xcpy][ycpy] = 'O'  # fazendo com que a diagonal dir->esq descendo seja preenchida\n",
        "            xcpy += 1\n",
        "            ycpy -= 1\n",
        "        xcpy = x\n",
        "        ycpy = y\n",
        "        while 0 <= xcpy <= 7 and 0 <= ycpy <= 7:  # verificando se continua dentro dos limites da matriz\n",
        "            if matriz[xcpy][ycpy] == '.':\n",
        "                matriz[xcpy][ycpy] = 'O'  # fazendo com que a diagonal dir->esq subindo seja preenchida\n",
        "            xcpy -= 1\n",
        "            ycpy += 1\n",
        "    #----------------------\n",
        "    incompleto=False\n",
        "    for linha in matriz:#verifica se há espaços disponíveis\n",
        "        for coluna in linha:\n",
        "            if coluna=='.':#Se ele encontrar um ponto, significa que há pelo menos um espaço disponível, sendo assim, ele retornará True\n",
        "                incompleto=True\n",
        "for i in matriz:\n",
        "    print(i)\n",
        "qtd_rainhas=0\n",
        "for linha in matriz:\n",
        "    for coluna in linha:\n",
        "        if coluna=='R':\n",
        "            qtd_rainhas+=1\n",
        "if qtd_rainhas==8:\n",
        "    print(\"Solução válida!\",qtd_rainhas)\n",
        "else:\n",
        "    print(\"Solução inválida!\",qtd_rainhas)\n",
        "    \n",
        "\n",
        "    \n",
        "\n",
        "    "
      ],
      "execution_count": 0,
      "outputs": []
    },
    {
      "cell_type": "markdown",
      "metadata": {
        "id": "P7fnjga8uQyB",
        "colab_type": "text"
      },
      "source": [
        "### Questão 3\n",
        "Implemente a seguinte formulação:\n",
        "\n",
        "- estados: disposição com n (n ≤ 8) rainhas sem ataque mútuo (teste gradual)\n",
        "- operadores: adicionar uma rainha na coluna vazia mais à esquerda em que não possa ser atacada\n",
        "- 2057 possibilidades (podendo ficar sem opções de escolha dependendo das operações anteriores)"
      ]
    },
    {
      "cell_type": "code",
      "metadata": {
        "id": "d0aWQ1FhuQyC",
        "colab_type": "code",
        "colab": {}
      },
      "source": [
        ""
      ],
      "execution_count": 0,
      "outputs": []
    },
    {
      "cell_type": "markdown",
      "metadata": {
        "id": "j6xdMHnBuQyE",
        "colab_type": "text"
      },
      "source": [
        "### Questão 4\n",
        "Implemente a seguinte formulação:\n",
        "- estados: disposição com 8 rainhas, uma em cada coluna\n",
        "- operadores: mover uma rainha atacada para outra casa na mesma coluna"
      ]
    },
    {
      "cell_type": "code",
      "metadata": {
        "id": "PZrTi8QQuQyE",
        "colab_type": "code",
        "colab": {}
      },
      "source": [
        ""
      ],
      "execution_count": 0,
      "outputs": []
    }
  ]
}